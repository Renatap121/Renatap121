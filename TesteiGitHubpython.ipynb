{
  "nbformat": 4,
  "nbformat_minor": 0,
  "metadata": {
    "colab": {
      "provenance": [],
      "authorship_tag": "ABX9TyNcnzq4o117hYF42AJka98S",
      "include_colab_link": true
    },
    "kernelspec": {
      "name": "python3",
      "display_name": "Python 3"
    },
    "language_info": {
      "name": "python"
    }
  },
  "cells": [
    {
      "cell_type": "markdown",
      "metadata": {
        "id": "view-in-github",
        "colab_type": "text"
      },
      "source": [
        "<a href=\"https://colab.research.google.com/github/Renatap121/Renatap121/blob/main/TesteiGitHubpython.ipynb\" target=\"_parent\"><img src=\"https://colab.research.google.com/assets/colab-badge.svg\" alt=\"Open In Colab\"/></a>"
      ]
    },
    {
      "cell_type": "code",
      "execution_count": null,
      "metadata": {
        "id": "OSxM6yLmQ-2V"
      },
      "outputs": [],
      "source": [
        "numero = float(input(\"N° 1\"))\n",
        "numero2 = float(input(\"N° 2\"))\n",
        "soma = numero + numero2\n",
        "\n",
        "print(soma)"
      ]
    },
    {
      "cell_type": "code",
      "source": [
        "numero = int(input(\"N° \"))\n",
        "#Processamento\n",
        "if numero % 2==0:\n",
        "  resultado = \"par\"\n",
        "else:\n",
        "  resultado = \"impar\"\n",
        "\n",
        ""
      ],
      "metadata": {
        "colab": {
          "base_uri": "https://localhost:8080/"
        },
        "id": "jkCHEnQHVU01",
        "outputId": "8364d8bf-770a-4ade-e803-e2cb366e2938"
      },
      "execution_count": 1,
      "outputs": [
        {
          "name": "stdout",
          "output_type": "stream",
          "text": [
            "N° 2\n"
          ]
        }
      ]
    }
  ]
}